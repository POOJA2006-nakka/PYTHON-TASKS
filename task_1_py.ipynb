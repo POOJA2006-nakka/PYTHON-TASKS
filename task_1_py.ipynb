{
  "nbformat": 4,
  "nbformat_minor": 0,
  "metadata": {
    "colab": {
      "provenance": [],
      "authorship_tag": "ABX9TyMJrFIbnJ8MJfS0loCqQDCp",
      "include_colab_link": true
    },
    "kernelspec": {
      "name": "python3",
      "display_name": "Python 3"
    },
    "language_info": {
      "name": "python"
    }
  },
  "cells": [
    {
      "cell_type": "markdown",
      "metadata": {
        "id": "view-in-github",
        "colab_type": "text"
      },
      "source": [
        "<a href=\"https://colab.research.google.com/github/POOJA2006-nakka/PYTHON-TASKS/blob/main/task_1_py.ipynb\" target=\"_parent\"><img src=\"https://colab.research.google.com/assets/colab-badge.svg\" alt=\"Open In Colab\"/></a>"
      ]
    },
    {
      "cell_type": "code",
      "execution_count": null,
      "metadata": {
        "id": "0_WG5BX7ySep"
      },
      "outputs": [],
      "source": [
        "name = \"World\"\n",
        "a = 10\n",
        "b = 5\n",
        "\n",
        "sum_result = a + b\n",
        "\n",
        "# 3. Print the results\n",
        "print(f\"Hello, {name}!\")\n",
        "print(f\"The sum of {a} and {b} is: {sum_result}\")\n",
        "\n",
        "Hello, World!\n",
        "The sum of 10 and 5 is: 15"
      ]
    }
  ]
}